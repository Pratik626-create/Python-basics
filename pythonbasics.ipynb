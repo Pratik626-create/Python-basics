{
  "nbformat": 4,
  "nbformat_minor": 0,
  "metadata": {
    "colab": {
      "provenance": []
    },
    "kernelspec": {
      "name": "python3",
      "display_name": "Python 3"
    },
    "language_info": {
      "name": "python"
    }
  },
  "cells": [
    {
      "cell_type": "markdown",
      "source": [
        " 1. What is Python, and why is it popular ?\n",
        " ans- It is a high evel programing language easy to use for biggners and profesionals . It is mosly used in the field of Ai ans data science .\n",
        " It i popular because of it's easy to use nature, versatility in each domain, easy to learn and adapting o the future technnologies.\n",
        "\n",
        "\n",
        "2. What is an interpreter in Python ?\n",
        "\n",
        "Ans- It is a program that reads and understand the python code and tranlates it to the computer in machine language to understand and excute the code.\n",
        "\n",
        "3. What are pre-defined keywords in Python ?\n",
        "\n",
        "Ans- Pre defined keywords in python are reserved words that have special meaning.You cannont us them as variable names, function names and\n",
        "identifiers .\n",
        "\n",
        "4. Can keywords be used as variable names ?\n",
        "\n",
        "Ans- No keywords cannot be used as variable names because they are reserves words and have specific meaning and work in python language.\n",
        "\n",
        "5. What is mutability in Python ?\n",
        "\n",
        "Ans - Mutability in Python refers to whether or not an object's state or content can be changed after it is created.\n",
        "\n",
        "6. Why are lists mutable, but tuples are immutable ?\n",
        "Ans - Lists are meant to store collections of items that may change over time — like appending, removing, or updating elements.\n",
        "- Tuples represent a collection of items that shouldn't change — like coordinates, configuration settings, or function return values.\n",
        "\n",
        "7. What is the difference between “==” and “is” operators in Python ?\n",
        "Ans- == operator checkes if the values are equal.\n",
        "\"is\" is used to check objects identity.\n",
        "\n",
        "8. What are logical operators in Python ?\n",
        "Ans- Operators are special symbols or keywords that are used to carry out specific actions on numbers or variables in Python expressions.\n",
        "\n",
        " 9.  What is type casting in Python ?\n",
        "Ans- Type casting, also referred to as type conversion, is the process of changing one data type to another in Python.\n",
        "\n",
        "10.What is the difference between implicit and explicit type casting ?\n",
        "\n",
        "Ans -\n",
        "\n",
        " 11. What is the purpose of conditional statements in Python  ?\n",
        " Ans - Conditionals in Python are used to execute code based on the evaluation of one or more conditions.\n",
        "Python supports conditional statements such as if, elif , and else to control the flow of execution.\n",
        "\n",
        "12. How does the elif statement work ?\n",
        "Ans - First if statement is excuted and checked if the condition does not met then elif is checked and excuted .\n",
        "\n",
        "13. What is the difference between for and while loops ?\n",
        "Ans- “for” loops are used for iterating over a sequence of elements, while “while” loops are used for executing code until a specified condition becomes False.\n",
        "\n",
        "14. Describe a scenario where a while loop is more suitable than a for loop.\n",
        "Ans- Imagine you're building an ATM system that allows a user to enter their PIN. The system should keep prompting the user until they enter the correct PIN or exceed the maximum number of attempts.In this case while loop is better than for loop.\n",
        "\n"
      ],
      "metadata": {
        "id": "deAzHwwDz_Sx"
      }
    },
    {
      "cell_type": "markdown",
      "source": [
        "PRACTICAL QUESTIONS"
      ],
      "metadata": {
        "id": "1fsiHGnoWOnO"
      }
    },
    {
      "cell_type": "code",
      "execution_count": null,
      "metadata": {
        "id": "buXMy_g9uurv",
        "colab": {
          "base_uri": "https://localhost:8080/"
        },
        "outputId": "9dc8a373-ec3c-4067-f143-9f45a60977da"
      },
      "outputs": [
        {
          "output_type": "stream",
          "name": "stdout",
          "text": [
            "Hellow world\n"
          ]
        }
      ],
      "source": [
        "#question 1\n",
        "\n",
        "print(\"Hellow world\")\n",
        "\n"
      ]
    },
    {
      "cell_type": "code",
      "source": [
        "#question 3\n",
        "\n",
        "\n",
        "import keyword\n",
        "\n",
        "print(\"List of all Python keywords:\\n\")\n",
        "print(keyword.kwlist)\n",
        "print(\"\\nTotal number of keywords:\", len(keyword.kwlist))\n",
        "\n",
        "\n",
        "\n",
        "\n"
      ],
      "metadata": {
        "colab": {
          "base_uri": "https://localhost:8080/"
        },
        "id": "aD8LYytoYvmf",
        "outputId": "90703fde-7c27-4d33-d58c-d2e68d552880"
      },
      "execution_count": null,
      "outputs": [
        {
          "output_type": "stream",
          "name": "stdout",
          "text": [
            "List of all Python keywords:\n",
            "\n",
            "['False', 'None', 'True', 'and', 'as', 'assert', 'async', 'await', 'break', 'class', 'continue', 'def', 'del', 'elif', 'else', 'except', 'finally', 'for', 'from', 'global', 'if', 'import', 'in', 'is', 'lambda', 'nonlocal', 'not', 'or', 'pass', 'raise', 'return', 'try', 'while', 'with', 'yield']\n",
            "\n",
            "Total number of keywords: 35\n"
          ]
        }
      ]
    },
    {
      "cell_type": "code",
      "source": [
        "#question 4\n",
        "\n",
        "import keyword\n",
        "\n",
        "def is_python_keyword(word):\n",
        "  return keyword.iskeyword(word)\n",
        "\n",
        "user_input = input (\"Enter a word to ckeck:\")\n",
        "if is_python_keyword(user_input):\n",
        "  print(f\"'{user_input}'is a Python keyword.\")\n",
        "else:\n",
        "  print(f\"'{user_input}'is not a Python keyword.\")"
      ],
      "metadata": {
        "colab": {
          "base_uri": "https://localhost:8080/"
        },
        "id": "60uwrX-8d36Z",
        "outputId": "63c54af1-7986-4a26-9a28-908c41c55519"
      },
      "execution_count": 1,
      "outputs": [
        {
          "output_type": "stream",
          "name": "stdout",
          "text": [
            "Enter a word to ckeck:true\n",
            "'true'is not a Python keyword.\n"
          ]
        }
      ]
    },
    {
      "cell_type": "code",
      "source": [
        "# question 6\n",
        "def modify_arguments(num, text, items):\n",
        "    print(\"Before modification:\")\n",
        "    print(f\"num = {num}, text = '{text}', items = {items}\")\n",
        "\n",
        "\n",
        "    num += 10\n",
        "    text += \" world\"\n",
        "    items.append(4)\n",
        "\n",
        "    print(\"\\nAfter modification inside function:\")\n",
        "    print(f\"num = {num}, text = '{text}', items = {items}\")\n",
        "\n",
        "\n",
        "number = 5\n",
        "message = \"hello\"\n",
        "my_list = [1, 2, 3]\n",
        "\n",
        "modify_arguments(number, message, my_list)\n",
        "\n",
        "print(\"\\nAfter function call:\")\n",
        "print(f\"number = {number}, message = '{message}', my_list = {my_list}\")\n"
      ],
      "metadata": {
        "id": "DPYPG48ggZ0q",
        "colab": {
          "base_uri": "https://localhost:8080/"
        },
        "outputId": "839005a6-f722-4185-e035-d63f49e8465d"
      },
      "execution_count": 2,
      "outputs": [
        {
          "output_type": "stream",
          "name": "stdout",
          "text": [
            "Before modification:\n",
            "num = 5, text = 'hello', items = [1, 2, 3]\n",
            "\n",
            "After modification inside function:\n",
            "num = 15, text = 'hello world', items = [1, 2, 3, 4]\n",
            "\n",
            "After function call:\n",
            "number = 5, message = 'hello', my_list = [1, 2, 3, 4]\n"
          ]
        }
      ]
    },
    {
      "cell_type": "markdown",
      "source": [],
      "metadata": {
        "id": "rPQZwmzd5WS6"
      }
    },
    {
      "cell_type": "code",
      "source": [
        "#queston7\n",
        "\n",
        "num1 = float(input(\"Enter the first numbeer:\"))\n",
        "num2 = float(input(\"Enter your second number\"))\n",
        "\n",
        "addition = num1 + num2\n",
        "substraction = num1 - num2\n",
        "multiplication = num1*num2\n",
        "division = num1/num2\n",
        "\n",
        "print(addition)\n",
        "print(substraction)\n",
        "print(multiplication)\n",
        "print(division)"
      ],
      "metadata": {
        "colab": {
          "base_uri": "https://localhost:8080/"
        },
        "id": "foD-5o4f5XdK",
        "outputId": "8f8ef862-d50c-466b-ed0d-ca18fef8dfa2"
      },
      "execution_count": 4,
      "outputs": [
        {
          "output_type": "stream",
          "name": "stdout",
          "text": [
            "Enter the first numbeer:2\n",
            "Enter your second number3\n",
            "5.0\n",
            "-1.0\n",
            "6.0\n",
            "0.6666666666666666\n"
          ]
        }
      ]
    },
    {
      "cell_type": "code",
      "source": [
        "#question 8\n",
        "age = int(input(\"Enter your age:\"))\n",
        "\n",
        "if age >= 18:\n",
        "  print(\"You are an adult\")\n",
        "\n",
        "else:\n",
        "  print(\"You are not an adult\")"
      ],
      "metadata": {
        "colab": {
          "base_uri": "https://localhost:8080/"
        },
        "id": "NNWrdocs7IqA",
        "outputId": "b519455e-2f70-4b85-d601-ddc0b372d364"
      },
      "execution_count": 6,
      "outputs": [
        {
          "output_type": "stream",
          "name": "stdout",
          "text": [
            "Enter your age:56\n",
            "You are an adult\n"
          ]
        }
      ]
    },
    {
      "cell_type": "code",
      "source": [
        "# question 9\n",
        "a = int(input(\"Enter a name \"))\n",
        "print(type(int(a)))\n",
        "print(type(float(a)))\n",
        "print(type(bool(a)))\n",
        "\n",
        "\n"
      ],
      "metadata": {
        "colab": {
          "base_uri": "https://localhost:8080/"
        },
        "id": "zPyK2qAMFoMS",
        "outputId": "138beceb-e917-4c84-c444-065e21e52a92"
      },
      "execution_count": 7,
      "outputs": [
        {
          "output_type": "stream",
          "name": "stdout",
          "text": [
            "Enter a name 6\n",
            "<class 'int'>\n",
            "<class 'float'>\n",
            "<class 'bool'>\n"
          ]
        }
      ]
    },
    {
      "cell_type": "code",
      "source": [
        "#question 10\n",
        "\n",
        "str_numbers = [\"10\", \"20\", \"30\", \"40\", \"50\"]\n",
        "\n",
        "print(\"Original List (String Type):\", str_numbers)\n",
        "\n",
        "int_numbers = [int(num) for num in str_numbers]\n",
        "print(\"After Casting to Integers:\", int_numbers)\n",
        "\n",
        "float_numbers = [float(num) for num in int_numbers]\n",
        "print(\"After Casting to Floats:\", float_numbers)\n",
        "\n",
        "str_again = [str(num) for num in float_numbers]\n",
        "print(\"After Casting Back to Strings:\", str_again)\n"
      ],
      "metadata": {
        "colab": {
          "base_uri": "https://localhost:8080/"
        },
        "id": "7wOTfHM4Hmqw",
        "outputId": "3a4ad5c7-42b8-447e-9caa-f62d80ef0e67"
      },
      "execution_count": 8,
      "outputs": [
        {
          "output_type": "stream",
          "name": "stdout",
          "text": [
            "Original List (String Type): ['10', '20', '30', '40', '50']\n",
            "After Casting to Integers: [10, 20, 30, 40, 50]\n",
            "After Casting to Floats: [10.0, 20.0, 30.0, 40.0, 50.0]\n",
            "After Casting Back to Strings: ['10.0', '20.0', '30.0', '40.0', '50.0']\n"
          ]
        }
      ]
    }
  ]
}